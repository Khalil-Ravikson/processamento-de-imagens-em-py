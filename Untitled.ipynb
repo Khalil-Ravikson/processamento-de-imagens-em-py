{
 "cells": [
  {
   "cell_type": "markdown",
   "id": "a7a3db21-e20f-4722-bf9e-a31d44b3743a",
   "metadata": {},
   "source": [
    "# PRIMEIRO MARKDOWN\n",
    "\n"
   ]
  },
  {
   "cell_type": "code",
   "execution_count": 5,
   "id": "49196dc4-1196-4bdf-99cd-b9b1d2976528",
   "metadata": {},
   "outputs": [
    {
     "name": "stdout",
     "output_type": "stream",
     "text": [
      "Collecting opencv-python\n",
      "  Using cached opencv_python-4.10.0.84-cp37-abi3-win_amd64.whl.metadata (20 kB)\n",
      "Requirement already satisfied: numpy>=1.21.2 in c:\\python312\\lib\\site-packages (from opencv-python) (2.1.2)\n",
      "Using cached opencv_python-4.10.0.84-cp37-abi3-win_amd64.whl (38.8 MB)\n",
      "Installing collected packages: opencv-python\n",
      "Successfully installed opencv-python-4.10.0.84\n",
      "Note: you may need to restart the kernel to use updated packages.\n"
     ]
    },
    {
     "name": "stderr",
     "output_type": "stream",
     "text": [
      "WARNING: Ignoring invalid distribution ~ip (C:\\Python312\\Lib\\site-packages)\n",
      "WARNING: Ignoring invalid distribution ~ip (C:\\Python312\\Lib\\site-packages)\n",
      "WARNING: Ignoring invalid distribution ~ip (C:\\Python312\\Lib\\site-packages)\n"
     ]
    }
   ],
   "source": [
    "\n",
    "pip install opencv-python"
   ]
  },
  {
   "cell_type": "code",
   "execution_count": 2,
   "id": "695d133c-b38f-4f6f-80ab-1b71c93cad1d",
   "metadata": {},
   "outputs": [
    {
     "name": "stdout",
     "output_type": "stream",
     "text": [
      "(469, 612)\n"
     ]
    }
   ],
   "source": [
    "from PIL import Image\n",
    "\n",
    "# Substitua o caminho pela localização da sua imagem no seu PC\n",
    "img = Image.open(r\"D:\\EDA\\py\\imagePy\\gettyimages-187611956-612x612.JPG\")\n",
    "\n",
    "# Mostra a imagem\n",
    "img.show()\n",
    "\n",
    "# Para acessar dados da imagem ou fazer modificações\n",
    "print(img.size) "
   ]
  },
  {
   "cell_type": "code",
   "execution_count": 7,
   "id": "4aa4f5cd-b208-48d8-ac21-6a5827edc371",
   "metadata": {},
   "outputs": [
    {
     "name": "stdout",
     "output_type": "stream",
     "text": [
      "(612, 469, 3)\n"
     ]
    }
   ],
   "source": [
    "import cv2\n",
    "\n",
    "# Substitua pelo caminho da imagem no seu PC\n",
    "img = cv2.imread(r\"D:\\EDA\\py\\imagePy\\gettyimages-187611956-612x612.JPG\")\n",
    "\n",
    "# Exibe a imagem em uma janela\n",
    "cv2.imshow('Imagem', img)\n",
    "cv2.waitKey(0)  # Aguarda um clique para fechar a janela\n",
    "cv2.destroyAllWindows()\n",
    "\n",
    "# Acessando o tamanho da imagem\n",
    "print(img.shape)"
   ]
  },
  {
   "cell_type": "code",
   "execution_count": 8,
   "id": "12f51a93-7213-49ed-a819-1789d688167b",
   "metadata": {},
   "outputs": [],
   "source": [
    "import tkinter as tk\n",
    "from tkinter import filedialog\n",
    "from PIL import Image, ImageTk\n",
    "\n",
    "# Função para abrir e exibir a imagem\n",
    "def abrir_imagem():\n",
    "    caminho_imagem = filedialog.askopenfilename(title=\"Escolha uma imagem\", \n",
    "                                                filetypes=[(\"Arquivos de imagem\", \"*.jpg;*.png;*.jpeg\")])\n",
    "    if caminho_imagem:\n",
    "        img = Image.open(caminho_imagem)\n",
    "        img.thumbnail((400, 400))  # Redimensionar a imagem para caber na tela\n",
    "        img_tk = ImageTk.PhotoImage(img)\n",
    "        lbl_imagem.config(image=img_tk)\n",
    "        lbl_imagem.image = img_tk  # Necessário para o tkinter manter a referência da imagem\n",
    "\n",
    "# Configurações da janela principal\n",
    "root = tk.Tk()\n",
    "root.title(\"Visualizador de Imagem\")\n",
    "\n",
    "# Botão para abrir a imagem\n",
    "btn_abrir = tk.Button(root, text=\"Abrir Imagem\", command=abrir_imagem)\n",
    "btn_abrir.pack(pady=10)\n",
    "\n",
    "# Label para exibir a imagem\n",
    "lbl_imagem = tk.Label(root)\n",
    "lbl_imagem.pack()\n",
    "\n",
    "# Inicia o loop do tkinter\n",
    "root.mainloop()"
   ]
  },
  {
   "cell_type": "code",
   "execution_count": 2,
   "id": "8ef50d3a-8839-4d02-a463-4c2c9c047613",
   "metadata": {},
   "outputs": [
    {
     "name": "stderr",
     "output_type": "stream",
     "text": [
      "Exception in Tkinter callback\n",
      "Traceback (most recent call last):\n",
      "  File \"c:\\Python312\\Lib\\tkinter\\__init__.py\", line 1948, in __call__\n",
      "    return self.func(*args)\n",
      "           ^^^^^^^^^^^^^^^^\n",
      "  File \"C:\\Users\\T-Gamer\\AppData\\Local\\Temp\\ipykernel_10004\\2811105535.py\", line 53, in abrir_imagem\n",
      "    lbl_imagem.config(image=img_tk)\n",
      "    ^^^^^^^^^^\n",
      "NameError: name 'lbl_imagem' is not defined. Did you mean: 'abrir_imagem'?\n"
     ]
    }
   ],
   "source": [
    "# Importa o módulo pyodbc para conexão com o banco de dados\n",
    "import pyodbc \n",
    "\n",
    "# Importa o módulo tkinter para construção de interfaces gráficas\n",
    "import tkinter as tk\n",
    "\n",
    "# Importa todos os componentes do módulo tkinter\n",
    "from tkinter import *\n",
    "\n",
    "# Importa a classe ttk do módulo tkinter para usar widgets aprimorados\n",
    "from tkinter import ttk,filedialog \n",
    "\n",
    "# Importa o módulo ttkbootstrap para aplicar temas Bootstrap no tkinter\n",
    "import ttkbootstrap as ttkbs\n",
    "from ttkbootstrap.constants import *\n",
    "\n",
    "from PIL import Image, ImageTk\n",
    "\n",
    "\n",
    "\n",
    "def cadastrar():\n",
    "\n",
    "    janela_cadastrar = Toplevel(janela)\n",
    "    janela_cadastrar.title(\"Cadastrar Produtos\")\n",
    "\n",
    "    # Define o fundo da janela principal como um tom escuro\n",
    "    janela_cadastrar.configure(bg = \"#333\")\n",
    "    \n",
    "    # Define a largura e a altura da janela principal\n",
    "    largura_janela = 450\n",
    "    altura_janela = 300\n",
    "    \n",
    "    # Obtém as dimensões da tela do usuário\n",
    "    largura_tela = janela_cadastrar.winfo_screenwidth()\n",
    "    altura_tela = janela_cadastrar.winfo_screenheight()\n",
    "    \n",
    "    # Calcula a posição da janela para que ela seja centralizada na tela\n",
    "    pos_x = (largura_tela // 2) - (largura_janela // 2)\n",
    "    pos_y = (altura_tela // 2) - (altura_janela // 2)\n",
    "    \n",
    "    # Define a geometria da janela para centralizá-la na tela\n",
    "    janela_cadastrar.geometry('{}x{}+{}+{}'.format(largura_janela, altura_janela, pos_x, pos_y))\n",
    "\n",
    "\n",
    "# Função para abrir e exibir a imagem\n",
    "def abrir_imagem():\n",
    "    caminho_imagem = filedialog.askopenfilename(title=\"Escolha uma imagem\", \n",
    "                                                filetypes=[(\"Arquivos de imagem\", \"*.jpg;*.png;*.jpeg\")])\n",
    "    if caminho_imagem:\n",
    "        img = Image.open(caminho_imagem)\n",
    "        img.thumbnail((400, 400))  # Redimensionar a imagem para caber na tela\n",
    "        img_tk = ImageTk.PhotoImage(img)\n",
    "        lbl_imagem.config(image=img_tk)\n",
    "        lbl_imagem.image = img_tk  # Necessário para o tkinter manter a referência da imagem\n",
    "        \n",
    "# Cria a janela principal para a tela de login\n",
    "janela = ttkbs.Window(themename=\"darkly\")\n",
    "janela.title(\"Tela de Selecção de Imagem\")\n",
    "\n",
    "# Define o fundo da janela principal como um tom escuro\n",
    "janela.configure(bg = \"#333\" )\n",
    "\n",
    "# Configura a janela para iniciar maximizada\n",
    "janela.state('zoomed')\n",
    "\n",
    "\n",
    "menu_principal = Menu(janela)\n",
    "\n",
    "# Adiciona o menu à janela principal\n",
    "janela.config(menu=menu_principal)\n",
    "\n",
    "# Cria um submenu com tearoff\n",
    "menu_opcoes = Menu(menu_principal, tearoff=0, bg=\"#1f4b99\", fg=\"white\", activebackground=\"#4a6fa5\", activeforeground=\"white\")\n",
    "\n",
    "# Adiciona o submenu ao menu principal com o nome 'Menu'\n",
    "menu_principal.add_cascade(label=\"Menu\", menu=menu_opcoes)\n",
    "\n",
    "# Adiciona itens ao submenu\n",
    "menu_opcoes.add_command(label=\"Add imagem\", command = abrir_imagem)\n",
    "menu_opcoes.add_command(label=\"Sair\", command = janela.destroy)\n",
    "\n",
    "lbl_imagem = tk.Label(janela, bg=\"#333\")\n",
    "lbl_imagem.pack(pady=20)\n",
    "\n",
    "# Inicia o loop da interface gráfica\n",
    "janela.mainloop()\n",
    "\n",
    "# Inicia o loop da interface gráfica\n",
    "janela.mainloop()"
   ]
  }
 ],
 "metadata": {
  "kernelspec": {
   "display_name": "Python 3",
   "language": "python",
   "name": "python3"
  },
  "language_info": {
   "codemirror_mode": {
    "name": "ipython",
    "version": 3
   },
   "file_extension": ".py",
   "mimetype": "text/x-python",
   "name": "python",
   "nbconvert_exporter": "python",
   "pygments_lexer": "ipython3",
   "version": "3.12.0"
  }
 },
 "nbformat": 4,
 "nbformat_minor": 5
}
