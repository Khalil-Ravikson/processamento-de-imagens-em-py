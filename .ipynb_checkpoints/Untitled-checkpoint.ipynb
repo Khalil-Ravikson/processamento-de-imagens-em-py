{
 "cells": [
  {
   "cell_type": "markdown",
   "id": "a7a3db21-e20f-4722-bf9e-a31d44b3743a",
   "metadata": {},
   "source": [
    "# PRIMEIRO MARKDOWN\n",
    "\n"
   ]
  },
  {
   "cell_type": "code",
   "execution_count": 5,
   "id": "49196dc4-1196-4bdf-99cd-b9b1d2976528",
   "metadata": {},
   "outputs": [
    {
     "name": "stdout",
     "output_type": "stream",
     "text": [
      "Collecting opencv-python\n",
      "  Using cached opencv_python-4.10.0.84-cp37-abi3-win_amd64.whl.metadata (20 kB)\n",
      "Requirement already satisfied: numpy>=1.21.2 in c:\\python312\\lib\\site-packages (from opencv-python) (2.1.2)\n",
      "Using cached opencv_python-4.10.0.84-cp37-abi3-win_amd64.whl (38.8 MB)\n",
      "Installing collected packages: opencv-python\n",
      "Successfully installed opencv-python-4.10.0.84\n",
      "Note: you may need to restart the kernel to use updated packages.\n"
     ]
    },
    {
     "name": "stderr",
     "output_type": "stream",
     "text": [
      "WARNING: Ignoring invalid distribution ~ip (C:\\Python312\\Lib\\site-packages)\n",
      "WARNING: Ignoring invalid distribution ~ip (C:\\Python312\\Lib\\site-packages)\n",
      "WARNING: Ignoring invalid distribution ~ip (C:\\Python312\\Lib\\site-packages)\n"
     ]
    }
   ],
   "source": [
    "\n",
    "pip install opencv-python"
   ]
  },
  {
   "cell_type": "code",
   "execution_count": 2,
   "id": "695d133c-b38f-4f6f-80ab-1b71c93cad1d",
   "metadata": {},
   "outputs": [
    {
     "name": "stdout",
     "output_type": "stream",
     "text": [
      "(469, 612)\n"
     ]
    }
   ],
   "source": [
    "from PIL import Image\n",
    "\n",
    "# Substitua o caminho pela localização da sua imagem no seu PC\n",
    "img = Image.open(r\"D:\\EDA\\py\\imagePy\\gettyimages-187611956-612x612.JPG\")\n",
    "\n",
    "# Mostra a imagem\n",
    "img.show()\n",
    "\n",
    "# Para acessar dados da imagem ou fazer modificações\n",
    "print(img.size) "
   ]
  },
  {
   "cell_type": "code",
   "execution_count": 7,
   "id": "4aa4f5cd-b208-48d8-ac21-6a5827edc371",
   "metadata": {},
   "outputs": [
    {
     "name": "stdout",
     "output_type": "stream",
     "text": [
      "(612, 469, 3)\n"
     ]
    }
   ],
   "source": [
    "import cv2\n",
    "\n",
    "# Substitua pelo caminho da imagem no seu PC\n",
    "img = cv2.imread(r\"D:\\EDA\\py\\imagePy\\gettyimages-187611956-612x612.JPG\")\n",
    "\n",
    "# Exibe a imagem em uma janela\n",
    "cv2.imshow('Imagem', img)\n",
    "cv2.waitKey(0)  # Aguarda um clique para fechar a janela\n",
    "cv2.destroyAllWindows()\n",
    "\n",
    "# Acessando o tamanho da imagem\n",
    "print(img.shape)"
   ]
  },
  {
   "cell_type": "code",
   "execution_count": 8,
   "id": "12f51a93-7213-49ed-a819-1789d688167b",
   "metadata": {},
   "outputs": [],
   "source": [
    "import tkinter as tk\n",
    "from tkinter import filedialog\n",
    "from PIL import Image, ImageTk\n",
    "\n",
    "# Função para abrir e exibir a imagem\n",
    "def abrir_imagem():\n",
    "    caminho_imagem = filedialog.askopenfilename(title=\"Escolha uma imagem\", \n",
    "                                                filetypes=[(\"Arquivos de imagem\", \"*.jpg;*.png;*.jpeg\")])\n",
    "    if caminho_imagem:\n",
    "        img = Image.open(caminho_imagem)\n",
    "        img.thumbnail((400, 400))  # Redimensionar a imagem para caber na tela\n",
    "        img_tk = ImageTk.PhotoImage(img)\n",
    "        lbl_imagem.config(image=img_tk)\n",
    "        lbl_imagem.image = img_tk  # Necessário para o tkinter manter a referência da imagem\n",
    "\n",
    "# Configurações da janela principal\n",
    "root = tk.Tk()\n",
    "root.title(\"Visualizador de Imagem\")\n",
    "\n",
    "# Botão para abrir a imagem\n",
    "btn_abrir = tk.Button(root, text=\"Abrir Imagem\", command=abrir_imagem)\n",
    "btn_abrir.pack(pady=10)\n",
    "\n",
    "# Label para exibir a imagem\n",
    "lbl_imagem = tk.Label(root)\n",
    "lbl_imagem.pack()\n",
    "\n",
    "# Inicia o loop do tkinter\n",
    "root.mainloop()"
   ]
  },
  {
   "cell_type": "code",
   "execution_count": null,
   "id": "8ef50d3a-8839-4d02-a463-4c2c9c047613",
   "metadata": {},
   "outputs": [],
   "source": []
  }
 ],
 "metadata": {
  "kernelspec": {
   "display_name": "Python 3 (ipykernel)",
   "language": "python",
   "name": "python3"
  },
  "language_info": {
   "codemirror_mode": {
    "name": "ipython",
    "version": 3
   },
   "file_extension": ".py",
   "mimetype": "text/x-python",
   "name": "python",
   "nbconvert_exporter": "python",
   "pygments_lexer": "ipython3",
   "version": "3.12.0"
  }
 },
 "nbformat": 4,
 "nbformat_minor": 5
}
